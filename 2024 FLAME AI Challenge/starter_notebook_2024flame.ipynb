{
 "cells": [
  {
   "cell_type": "code",
   "execution_count": 1,
   "id": "f46f78bb",
   "metadata": {},
   "outputs": [],
   "source": [
    "# This Python 3 environment comes with many helpful analytics libraries installed\n",
    "# It is defined by the kaggle/python Docker image: https://github.com/kaggle/docker-python\n",
    "# For example, here's several helpful packages to load\n",
    "\n",
    "import numpy as np # linear algebra\n",
    "import pandas as pd # data processing, CSV file I/O (e.g. pd.read_csv)\n",
    "import matplotlib.pyplot as plt\n",
    "import os\n",
    "#### INSTRUCTIONS FOR I/O (PLEASE READ) #######\n",
    "# Input data files are available in the read-only \"../input/\" (relative) or '/kaggle/input'(absolute) directory\n",
    "# For example, running this (by clicking run or pressing Shift+Enter) will list all files under the input directory\n",
    "# You can write up to 20GB to the current directory (/kaggle/working/) that gets preserved as output when you create a version using \"Save & Run All\" \n",
    "# You can also write temporary files to /kaggle/temp/, but they won't be saved outside of the current session\n",
    "input_path = '2024-flame-ai-challenge/dataset/'\n",
    "output_path = 'working/'"
   ]
  },
  {
   "cell_type": "markdown",
   "id": "4a55a7e3",
   "metadata": {},
   "source": [
    "## Load Metadata"
   ]
  },
  {
   "cell_type": "code",
   "execution_count": 2,
   "id": "a616d049",
   "metadata": {},
   "outputs": [
    {
     "data": {
      "text/html": [
       "<div>\n",
       "<style scoped>\n",
       "    .dataframe tbody tr th:only-of-type {\n",
       "        vertical-align: middle;\n",
       "    }\n",
       "\n",
       "    .dataframe tbody tr th {\n",
       "        vertical-align: top;\n",
       "    }\n",
       "\n",
       "    .dataframe thead th {\n",
       "        text-align: right;\n",
       "    }\n",
       "</style>\n",
       "<table border=\"1\" class=\"dataframe\">\n",
       "  <thead>\n",
       "    <tr style=\"text-align: right;\">\n",
       "      <th></th>\n",
       "      <th>id</th>\n",
       "      <th>u</th>\n",
       "      <th>alpha</th>\n",
       "      <th>Nt</th>\n",
       "      <th>Nx</th>\n",
       "      <th>Ny</th>\n",
       "      <th>theta_filename</th>\n",
       "      <th>ustar_filename</th>\n",
       "      <th>xi_filename</th>\n",
       "    </tr>\n",
       "  </thead>\n",
       "  <tbody>\n",
       "    <tr>\n",
       "      <th>0</th>\n",
       "      <td>804025</td>\n",
       "      <td>2</td>\n",
       "      <td>10</td>\n",
       "      <td>150</td>\n",
       "      <td>113</td>\n",
       "      <td>32</td>\n",
       "      <td>theta_K_id804025.dat</td>\n",
       "      <td>ustar_ms-1_id804025.dat</td>\n",
       "      <td>xi_id804025.dat</td>\n",
       "    </tr>\n",
       "    <tr>\n",
       "      <th>1</th>\n",
       "      <td>875935</td>\n",
       "      <td>2</td>\n",
       "      <td>5</td>\n",
       "      <td>150</td>\n",
       "      <td>113</td>\n",
       "      <td>32</td>\n",
       "      <td>theta_K_id875935.dat</td>\n",
       "      <td>ustar_ms-1_id875935.dat</td>\n",
       "      <td>xi_id875935.dat</td>\n",
       "    </tr>\n",
       "    <tr>\n",
       "      <th>2</th>\n",
       "      <td>930086</td>\n",
       "      <td>6</td>\n",
       "      <td>0</td>\n",
       "      <td>150</td>\n",
       "      <td>113</td>\n",
       "      <td>32</td>\n",
       "      <td>theta_K_id930086.dat</td>\n",
       "      <td>ustar_ms-1_id930086.dat</td>\n",
       "      <td>xi_id930086.dat</td>\n",
       "    </tr>\n",
       "    <tr>\n",
       "      <th>3</th>\n",
       "      <td>661713</td>\n",
       "      <td>4</td>\n",
       "      <td>5</td>\n",
       "      <td>150</td>\n",
       "      <td>113</td>\n",
       "      <td>32</td>\n",
       "      <td>theta_K_id661713.dat</td>\n",
       "      <td>ustar_ms-1_id661713.dat</td>\n",
       "      <td>xi_id661713.dat</td>\n",
       "    </tr>\n",
       "    <tr>\n",
       "      <th>4</th>\n",
       "      <td>633229</td>\n",
       "      <td>2</td>\n",
       "      <td>0</td>\n",
       "      <td>150</td>\n",
       "      <td>113</td>\n",
       "      <td>32</td>\n",
       "      <td>theta_K_id633229.dat</td>\n",
       "      <td>ustar_ms-1_id633229.dat</td>\n",
       "      <td>xi_id633229.dat</td>\n",
       "    </tr>\n",
       "  </tbody>\n",
       "</table>\n",
       "</div>"
      ],
      "text/plain": [
       "       id  u  alpha   Nt   Nx  Ny        theta_filename  \\\n",
       "0  804025  2     10  150  113  32  theta_K_id804025.dat   \n",
       "1  875935  2      5  150  113  32  theta_K_id875935.dat   \n",
       "2  930086  6      0  150  113  32  theta_K_id930086.dat   \n",
       "3  661713  4      5  150  113  32  theta_K_id661713.dat   \n",
       "4  633229  2      0  150  113  32  theta_K_id633229.dat   \n",
       "\n",
       "            ustar_filename      xi_filename  \n",
       "0  ustar_ms-1_id804025.dat  xi_id804025.dat  \n",
       "1  ustar_ms-1_id875935.dat  xi_id875935.dat  \n",
       "2  ustar_ms-1_id930086.dat  xi_id930086.dat  \n",
       "3  ustar_ms-1_id661713.dat  xi_id661713.dat  \n",
       "4  ustar_ms-1_id633229.dat  xi_id633229.dat  "
      ]
     },
     "execution_count": 2,
     "metadata": {},
     "output_type": "execute_result"
    }
   ],
   "source": [
    "train_df = pd.read_csv(os.path.join(input_path,'train.csv'))\n",
    "train_df.head()"
   ]
  },
  {
   "cell_type": "code",
   "execution_count": 37,
   "id": "2cee84c5",
   "metadata": {},
   "outputs": [],
   "source": [
    "# load data\n",
    "def load_dataX(idx):\n",
    "    csv_file = train_df.reset_index().to_dict(orient='list')\n",
    "    dir_path = os.path.join(input_path, \"train\")\n",
    "    id = csv_file['id'][idx]\n",
    "    print('id is ', id)\n",
    "    nt, Nx, Ny = csv_file['Nt'][idx], csv_file['Nx'][idx], csv_file['Ny'][idx]\n",
    "    print('nt is ', nt)\n",
    "    print('Nx is ', Nx)\n",
    "    print('Ny is ', Ny)\n",
    "    theta = np.fromfile(os.path.join(dir_path, csv_file['theta_filename'][idx]), dtype=\"<f4\").reshape(nt, Nx, Ny)\n",
    "    ustar = np.fromfile(os.path.join(dir_path, csv_file['ustar_filename'][idx]), dtype=\"<f4\").reshape(nt, Nx, Ny)\n",
    "    xi_f = np.fromfile(os.path.join(dir_path, csv_file['xi_filename'][idx]), dtype=\"<f4\").reshape(nt, Nx, Ny)\n",
    "    uin  = csv_file['u'][idx]\n",
    "    alpha = csv_file['alpha'][idx]\n",
    "\n",
    "    return theta, ustar, xi_f, uin, alpha"
   ]
  },
  {
   "cell_type": "code",
   "execution_count": 38,
   "id": "35395ace",
   "metadata": {},
   "outputs": [
    {
     "name": "stdout",
     "output_type": "stream",
     "text": [
      "id is  804025\n",
      "nt is  150\n",
      "Nx is  113\n",
      "Ny is  32\n"
     ]
    }
   ],
   "source": [
    "idx = 0\n",
    "theta, ustar, xi_f, uin, alpha = load_dataX(idx)"
   ]
  },
  {
   "cell_type": "code",
   "execution_count": 34,
   "id": "679a4453",
   "metadata": {},
   "outputs": [
    {
     "name": "stdout",
     "output_type": "stream",
     "text": [
      "[[0. 0. 0. ... 0. 0. 0.]\n",
      " [0. 0. 0. ... 0. 0. 0.]\n",
      " [0. 0. 0. ... 0. 0. 0.]\n",
      " ...\n",
      " [0. 0. 0. ... 0. 0. 0.]\n",
      " [0. 0. 0. ... 0. 0. 0.]\n",
      " [0. 0. 0. ... 0. 0. 0.]]\n"
     ]
    }
   ],
   "source": [
    "# 113 * 32: theta(temperature), ustar(), xi_f(fire location)\n",
    "# scalar: alpha(terrain slope), uin(wind speed) \n",
    "print(xi_f[0])"
   ]
  },
  {
   "cell_type": "markdown",
   "id": "f0a64603",
   "metadata": {},
   "source": [
    "## Data visualization"
   ]
  },
  {
   "cell_type": "code",
   "execution_count": 21,
   "id": "116b17a2",
   "metadata": {},
   "outputs": [],
   "source": [
    "def generate_video(theta, ustar, xi_f):\n",
    "    for i in range(len(theta)):\n",
    "        fig, axs = plt.subplots(3, 1, figsize=(10, 8))\n",
    "        im0 = axs[0].imshow(theta[i].T, cmap='inferno')\n",
    "        axs[0].set_title('theta')\n",
    "        cbar = fig.colorbar(im0, ax=axs[0], orientation='horizontal')\n",
    "\n",
    "        im1 = axs[1].imshow(ustar[i].T, cmap='viridis')\n",
    "        axs[1].set_title('ustar')\n",
    "        cbar = fig.colorbar(im1, ax = axs[1], orientation='horizontal')\n",
    "\n",
    "        im2 = axs[2].imshow(xi_f[i].T, vmin=0, vmax=1, cmap='cividis')\n",
    "        axs[2].set_title('xi_f')\n",
    "        cbar = fig.colorbar(im2, ax=axs[2], orientation='horizontal')\n",
    "        for ax in axs:\n",
    "            ax.axis('off')\n",
    "        fig.tight_layout()\n",
    "        plt.savefig(\"working/img/file%02d.png\"%i)\n",
    "\n",
    "#     os.chdir(\"working\")\n",
    "#     os.system(\"\"\"ffmpeg -i img/file%02d -c:v libx264 -r 25 -pix_fmt yuv420p out.mp4 \n",
    "#     \"\"\")"
   ]
  },
  {
   "cell_type": "code",
   "execution_count": 8,
   "id": "68866d0c",
   "metadata": {},
   "outputs": [
    {
     "name": "stdout",
     "output_type": "stream",
     "text": [
      "150\n"
     ]
    }
   ],
   "source": [
    "frames = len(theta)\n",
    "print(frames)"
   ]
  },
  {
   "cell_type": "code",
   "execution_count": 5,
   "id": "6dca9fc5",
   "metadata": {},
   "outputs": [
    {
     "data": {
      "image/png": "[encoded data removed]",
      "text/plain": [
       "<Figure size 1000x800 with 6 Axes>"
      ]
     },
     "metadata": {},
     "output_type": "display_data"
    }
   ],
   "source": [
    "frame = 30\n",
    "fig, axs = plt.subplots(3, 1, figsize=(10, 8))\n",
    "im0 = axs[0].imshow(theta[frame].T, cmap='inferno')\n",
    "axs[0].set_title('theta')\n",
    "cbar = fig.colorbar(im0, ax=axs[0], orientation='horizontal')\n",
    "\n",
    "im1 = axs[1].imshow(ustar[frame].T, cmap='viridis')\n",
    "axs[1].set_title('ustar')\n",
    "cbar = fig.colorbar(im1, ax = axs[1], orientation='horizontal')\n",
    "\n",
    "im2 = axs[2].imshow(xi_f[frame].T, vmin=0, vmax=1, cmap='cividis')\n",
    "axs[2].set_title('xi_f')\n",
    "cbar = fig.colorbar(im2, ax=axs[2], orientation='horizontal')\n",
    "for ax in axs:\n",
    "    ax.axis('off')\n",
    "fig.tight_layout()"
   ]
  },
  {
   "cell_type": "code",
   "execution_count": null,
   "id": "331a1167",
   "metadata": {},
   "outputs": [],
   "source": []
  },
  {
   "cell_type": "code",
   "execution_count": null,
   "id": "d2163694",
   "metadata": {},
   "outputs": [],
   "source": []
  }
 ],
 "metadata": {
  "kernelspec": {
   "display_name": "Python 3 (ipykernel)",
   "language": "python",
   "name": "python3"
  },
  "language_info": {
   "codemirror_mode": {
    "name": "ipython",
    "version": 3
   },
   "file_extension": ".py",
   "mimetype": "text/x-python",
   "name": "python",
   "nbconvert_exporter": "python",
   "pygments_lexer": "ipython3",
   "version": "3.8.8"
  }
 },
 "nbformat": 4,
 "nbformat_minor": 5
}
